{
 "cells": [
  {
   "cell_type": "markdown",
   "metadata": {},
   "source": [
    "## 來玩看看VGG"
   ]
  },
  {
   "cell_type": "markdown",
   "metadata": {},
   "source": [
    "### 匯入會用到的模組"
   ]
  },
  {
   "cell_type": "code",
   "execution_count": 1,
   "metadata": {},
   "outputs": [],
   "source": [
    "#匯入numpy(處理數值)\n",
    "import numpy as np\n",
    "\n",
    "#匯入畫圖的函式庫\n",
    "import matplotlib.pyplot as plt\n",
    "import matplotlib as mpl"
   ]
  },
  {
   "cell_type": "code",
   "execution_count": 2,
   "metadata": {},
   "outputs": [],
   "source": [
    "#匯入處理影像的模組 opencv\n",
    "import cv2\n",
    "\n",
    "#匯入Python內建的Imaging Library\n",
    "import PIL.Image"
   ]
  },
  {
   "cell_type": "code",
   "execution_count": 3,
   "metadata": {},
   "outputs": [],
   "source": [
    "#匯入tensorflow\n",
    "import tensorflow as tf\n"
   ]
  },
  {
   "cell_type": "code",
   "execution_count": null,
   "metadata": {},
   "outputs": [],
   "source": []
  },
  {
   "cell_type": "markdown",
   "metadata": {},
   "source": [
    "### 匯入vgg模型\n",
    "#### https://www.tensorflow.org/api_docs/python/tf/keras/applications\n",
    "#### (第一次執行，他會自己下載)\n",
    "##### 顯示模型資訊: 模型名稱後面加上 .summary()"
   ]
  },
  {
   "cell_type": "code",
   "execution_count": 4,
   "metadata": {},
   "outputs": [],
   "source": [
    "#讀入模型\n",
    "vgg_model = tf.keras.applications.VGG19(include_top=True, weights='imagenet')"
   ]
  },
  {
   "cell_type": "code",
   "execution_count": 5,
   "metadata": {},
   "outputs": [],
   "source": [
    "#試著顯示一下模型的資訊\n",
    "\n",
    "\n",
    "\n"
   ]
  },
  {
   "cell_type": "code",
   "execution_count": 6,
   "metadata": {},
   "outputs": [],
   "source": [
    "#顯示layer的名稱\n",
    "# for layer in vgg_model.layers:\n",
    "#     print(layer.name)\n",
    "\n"
   ]
  },
  {
   "cell_type": "code",
   "execution_count": 7,
   "metadata": {},
   "outputs": [],
   "source": [
    "#(補充)凍結權重讓他不訓練 \n",
    "#vgg_model.trainable = False    #全部模型凍結\n",
    "\n",
    "# for layer in vgg_model.layers[0:17]:     #凍結前四個Block\n",
    "#     layer.trainable = False"
   ]
  },
  {
   "cell_type": "code",
   "execution_count": null,
   "metadata": {},
   "outputs": [],
   "source": []
  },
  {
   "cell_type": "markdown",
   "metadata": {},
   "source": [
    "### 影像前處理"
   ]
  },
  {
   "cell_type": "code",
   "execution_count": 8,
   "metadata": {},
   "outputs": [],
   "source": [
    "#讀取影像 (以cv2為例)\n",
    "img = cv2.imread('original-image_pk.png')\n",
    "img = img[:,:,::-1]"
   ]
  },
  {
   "cell_type": "markdown",
   "metadata": {},
   "source": [
    "### (1)影像尺寸"
   ]
  },
  {
   "cell_type": "code",
   "execution_count": 9,
   "metadata": {},
   "outputs": [],
   "source": [
    "#顯示影像尺寸的方式：加上.shape\n",
    "#img.shape"
   ]
  },
  {
   "cell_type": "code",
   "execution_count": 25,
   "metadata": {},
   "outputs": [],
   "source": [
    "#vgg19輸入預設值為224 x 224\n",
    "#將影像縮放成想要的尺寸\n",
    "resize_img = tf.image.resize(img, (224, 224))\n",
    "\n",
    "#也有別的工具\n",
    "#resize_img=cv2.resize(img, (224, 224))\n",
    "\n",
    "#補充:\n",
    "#cv2作完會是整數(還是影像)，\n",
    "#而tensorflow作完會是小數(更為精確)，更適合作深度學習，但要取整數才能畫出正確的圖。"
   ]
  },
  {
   "cell_type": "code",
   "execution_count": 11,
   "metadata": {},
   "outputs": [],
   "source": [
    "#處理完可以用.shape確認尺寸\n",
    "#resize_img.shape"
   ]
  },
  {
   "cell_type": "code",
   "execution_count": null,
   "metadata": {},
   "outputs": [],
   "source": []
  },
  {
   "cell_type": "markdown",
   "metadata": {},
   "source": [
    "### (2)影像數值"
   ]
  },
  {
   "cell_type": "code",
   "execution_count": 12,
   "metadata": {},
   "outputs": [],
   "source": [
    "#影像數值是[0,255]，每個模型都有前處理的方式，將數值做rescale。\n",
    "#直接使用對應的preprocess_input最快\n",
    "normal_img = tf.keras.applications.vgg19.preprocess_input(resize_img)\n"
   ]
  },
  {
   "cell_type": "markdown",
   "metadata": {},
   "source": [
    "\n",
    "https://www.tensorflow.org/api_docs/python/tf/keras/applications/vgg19/preprocess_input"
   ]
  },
  {
   "cell_type": "code",
   "execution_count": null,
   "metadata": {},
   "outputs": [],
   "source": []
  },
  {
   "cell_type": "markdown",
   "metadata": {},
   "source": [
    "補充：\n",
    "使用VGG19的前處理\n",
    "其數值預設採用mode = caffe的方式\n",
    "\n",
    "即將影像**RGB**轉換為**BGR**,然後其數值減去ImageNet平均, 亦即減去 `BGR` [103.939, 116.779, 123.68]\n",
    "\n",
    "故經此處理後 影像為**BGR**格式(<=重要, 需注意!!!)\n",
    "\n",
    "其他常見的處理方式還有\n",
    "\n",
    "mode = tf ( will scale pixels between -1 and 1, sample-wise. )\n",
    "\n",
    "除以127.5，然後減 1\n",
    "\n",
    "mode = torch\n",
    "( will scale pixels between 0 and 1 and then\n",
    "          will normalize each channel with respect to the\n",
    "          ImageNet dataset.)\n",
    "\n",
    "除以255，減去ImageNet平均[0.485, 0.456, 0.406] ，除以標準差[0.229, 0.224, 0.225]。\n",
    "\n",
    "https://github.com/tensorflow/tensorflow/blob/85c8b2a817f95a3e979ecd1ed95bff1dc1335cff/tensorflow/python/keras/applications/imagenet_utils.py#L169"
   ]
  },
  {
   "cell_type": "code",
   "execution_count": null,
   "metadata": {},
   "outputs": [],
   "source": []
  },
  {
   "cell_type": "markdown",
   "metadata": {},
   "source": [
    "### (3)輸入格式"
   ]
  },
  {
   "cell_type": "code",
   "execution_count": 13,
   "metadata": {},
   "outputs": [],
   "source": [
    "#要餵給AI時，它的輸入是batch, image_dim, channels\n",
    "#batch = 1 一筆資料\n",
    "#image_dim = 224, 224 影像尺寸\n",
    "#channels = 3 (BGR)\n",
    "\n",
    "input_img = tf.reshape(normal_img,  (1, 224, 224, 3), name=None)"
   ]
  },
  {
   "cell_type": "code",
   "execution_count": null,
   "metadata": {},
   "outputs": [],
   "source": []
  },
  {
   "cell_type": "code",
   "execution_count": 14,
   "metadata": {},
   "outputs": [
    {
     "data": {
      "text/plain": [
       "'channels_last'"
      ]
     },
     "execution_count": 14,
     "metadata": {},
     "output_type": "execute_result"
    }
   ],
   "source": [
    "#補充: 檢查format\n",
    "tf.keras.backend.image_data_format()"
   ]
  },
  {
   "cell_type": "markdown",
   "metadata": {},
   "source": [
    "##### `channels_last` 代表輸入影像尺寸為(batch, image_dim, channels)\n",
    "##### 而對應的`channels_first`輸入尺寸為(batch, channels, image_dim)\n",
    "##### 若需要更改可使用 `tf.keras.backend.set_image_data_format`"
   ]
  },
  {
   "cell_type": "code",
   "execution_count": null,
   "metadata": {},
   "outputs": [],
   "source": []
  },
  {
   "cell_type": "markdown",
   "metadata": {},
   "source": [
    "## 用模型預測"
   ]
  },
  {
   "cell_type": "code",
   "execution_count": 15,
   "metadata": {},
   "outputs": [],
   "source": [
    "#對影像進行預測，算出機率\n",
    "#直接將輸入影像丟進模型裡\n",
    "prediction_probabilities = vgg_model(input_img)\n",
    "\n",
    "#如果用下面寫法，會的到一樣的結果，但格式為np_array\n",
    "#prediction_probabilities = vgg_model.predict(input_img)\n",
    "\n",
    "#利用np.argmax()可知道是哪個index的機率最大"
   ]
  },
  {
   "cell_type": "code",
   "execution_count": 16,
   "metadata": {},
   "outputs": [
    {
     "data": {
      "text/plain": [
       "TensorShape([1, 1000])"
      ]
     },
     "execution_count": 16,
     "metadata": {},
     "output_type": "execute_result"
    }
   ],
   "source": [
    "prediction_probabilities.shape"
   ]
  },
  {
   "cell_type": "code",
   "execution_count": null,
   "metadata": {},
   "outputs": [],
   "source": []
  },
  {
   "cell_type": "code",
   "execution_count": 14,
   "metadata": {},
   "outputs": [
    {
     "data": {
      "text/plain": [
       "[('teddy', 0.23540515),\n",
       " ('Chihuahua', 0.10880504),\n",
       " ('toyshop', 0.092614815),\n",
       " ('bow_tie', 0.04598467),\n",
       " ('cowboy_hat', 0.033216592)]"
      ]
     },
     "execution_count": 14,
     "metadata": {},
     "output_type": "execute_result"
    }
   ],
   "source": [
    "#利用官方的decode_predictions，可以還原出這張影像是對應Imagenet的哪個分類\n",
    "predicted_top_5 = tf.keras.applications.vgg19.decode_predictions(prediction_probabilities.numpy())[0]\n",
    "[(class_name, prob) for (number, class_name, prob) in predicted_top_5]"
   ]
  },
  {
   "cell_type": "code",
   "execution_count": null,
   "metadata": {},
   "outputs": [],
   "source": []
  }
 ],
 "metadata": {
  "kernelspec": {
   "display_name": "Python 3",
   "language": "python",
   "name": "python3"
  },
  "language_info": {
   "codemirror_mode": {
    "name": "ipython",
    "version": 3
   },
   "file_extension": ".py",
   "mimetype": "text/x-python",
   "name": "python",
   "nbconvert_exporter": "python",
   "pygments_lexer": "ipython3",
   "version": "3.6.9"
  }
 },
 "nbformat": 4,
 "nbformat_minor": 4
}
