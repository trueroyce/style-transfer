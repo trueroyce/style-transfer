{
 "cells": [
  {
   "cell_type": "markdown",
   "metadata": {},
   "source": [
    "## 玩看看讀取影像"
   ]
  },
  {
   "cell_type": "markdown",
   "metadata": {},
   "source": [
    "### 匯入會用到的模組"
   ]
  },
  {
   "cell_type": "code",
   "execution_count": 2,
   "metadata": {},
   "outputs": [],
   "source": [
    "#標準配備~~~python必學三大心法：numpy、pandas和matplotlib\n",
    "\n",
    "#匯入numpy(處理數值)和pandas(處理表單)(雖然pandas這邊沒用到)\n",
    "import numpy as np\n",
    "import pandas as pd\n",
    "\n",
    "#匯入畫圖的模組\n",
    "import matplotlib.pyplot as plt\n",
    "import matplotlib as mpl"
   ]
  },
  {
   "cell_type": "code",
   "execution_count": 3,
   "metadata": {},
   "outputs": [],
   "source": [
    "#以下兩種都是處理影像的常見招式\n",
    "#匯入處理影像的模組 opencv\n",
    "import cv2\n",
    "\n",
    "#匯入Python內建的Imaging Library\n",
    "import PIL.Image"
   ]
  },
  {
   "cell_type": "code",
   "execution_count": 4,
   "metadata": {},
   "outputs": [],
   "source": [
    "#tensorflow現在是用來作深度學習開發的工具，它也有提供對影像的操作\n",
    "#匯入tensorflow\n",
    "import tensorflow as tf"
   ]
  },
  {
   "cell_type": "markdown",
   "metadata": {},
   "source": []
  },
  {
   "cell_type": "markdown",
   "metadata": {},
   "source": [
    "### 讀取影像練習\n",
    "#### 直接印出: img或print(img)\n",
    "#### 畫圖: plt.imshow(img)\n",
    "#### 看資料是哪種格式: type(img)\n",
    "\n"
   ]
  },
  {
   "cell_type": "markdown",
   "metadata": {},
   "source": [
    "## (1) cv2"
   ]
  },
  {
   "cell_type": "code",
   "execution_count": 28,
   "metadata": {},
   "outputs": [],
   "source": [
    "#opencv讀取影像預設值是BGR\n",
    "img = cv2.imread('original-image_pk.png')\n",
    "\n",
    "#存檔的指令是imwrite\n",
    "#例如 cv2.imwrite(file_name, img)"
   ]
  },
  {
   "cell_type": "code",
   "execution_count": 30,
   "metadata": {},
   "outputs": [],
   "source": [
    "#畫圖看看!\n",
    "#img是哪種格式?\n",
    "\n",
    "\n"
   ]
  },
  {
   "cell_type": "markdown",
   "metadata": {},
   "source": [
    "#### 註：可以利用matplotlib的rcParams修改顯示的預設值(執行一次即可)\n",
    "##### mpl.rcParams['figure.figsize'] = (12,12) #顯示的尺寸\n",
    "##### mpl.rcParams['axes.grid'] = False # 不顯示格線"
   ]
  },
  {
   "cell_type": "code",
   "execution_count": null,
   "metadata": {},
   "outputs": [],
   "source": []
  },
  {
   "cell_type": "code",
   "execution_count": 11,
   "metadata": {},
   "outputs": [],
   "source": [
    "#何謂BGR?怎轉成RGB?\n",
    "#channel的順序顛倒了，試看看下面的方式把它弄回來\n",
    "#img=img[:,:,::-1]"
   ]
  },
  {
   "cell_type": "markdown",
   "metadata": {},
   "source": []
  },
  {
   "cell_type": "markdown",
   "metadata": {},
   "source": [
    "## (2) PIL"
   ]
  },
  {
   "cell_type": "code",
   "execution_count": 23,
   "metadata": {},
   "outputs": [],
   "source": [
    "#利用PIL下的Image，裡面的open來讀取檔案\n",
    "img = PIL.Image.open('original-image_pk.png')\n",
    "\n",
    "#存檔的指令是save\n",
    "#例如 img.save(file_name)"
   ]
  },
  {
   "cell_type": "code",
   "execution_count": 25,
   "metadata": {},
   "outputs": [],
   "source": [
    "#畫圖看看!\n",
    "#img是哪種格式?\n",
    "\n"
   ]
  },
  {
   "cell_type": "code",
   "execution_count": 16,
   "metadata": {},
   "outputs": [],
   "source": [
    "#在numpy裡面的格式叫array\n",
    "#使用np.array(?)來作轉換試看看\n"
   ]
  },
  {
   "cell_type": "code",
   "execution_count": null,
   "metadata": {},
   "outputs": [],
   "source": []
  },
  {
   "cell_type": "markdown",
   "metadata": {},
   "source": [
    "###### 補充其他的讀取方式：(供參考)"
   ]
  },
  {
   "cell_type": "code",
   "execution_count": 37,
   "metadata": {},
   "outputs": [],
   "source": [
    "# tensorflow讀檔方式\n",
    "# img = tf.io.read_file('檔名') #讀取影像至tf上\n",
    "# img = tf.image.decode_image(img, channels=3) #解碼影像(將類似0x7b轉換為對應影像數值)\n",
    "# img = np.array(img, dtype=np.uint8) #轉換成array\n",
    "\n",
    "# 利用matplotlib\n",
    "# import matplotlib.image as mpimg\n",
    "# img = mpimg.imread('檔名')\n",
    "\n",
    "# raw檔\n",
    "# img = np.fromfile('檔名', dtype='資料型態')\n",
    "\n",
    "# dicom檔 (醫療影像)\n",
    "# import pydicom\n",
    "# ds = pydicom.dcmread('檔名')\n",
    "# img = ds.pixel_array \n",
    "\n",
    "# nii檔 (NIfTI格式) (醫療影像)\n",
    "# import nibabel as nib\n",
    "# ds = nib.load('檔名')\n",
    "# img = np.squeeze(ds.get_data()) \n",
    "\n",
    "\n"
   ]
  },
  {
   "cell_type": "code",
   "execution_count": null,
   "metadata": {},
   "outputs": [],
   "source": []
  }
 ],
 "metadata": {
  "kernelspec": {
   "display_name": "Python 3",
   "language": "python",
   "name": "python3"
  },
  "language_info": {
   "codemirror_mode": {
    "name": "ipython",
    "version": 3
   },
   "file_extension": ".py",
   "mimetype": "text/x-python",
   "name": "python",
   "nbconvert_exporter": "python",
   "pygments_lexer": "ipython3",
   "version": "3.6.9"
  }
 },
 "nbformat": 4,
 "nbformat_minor": 4
}
